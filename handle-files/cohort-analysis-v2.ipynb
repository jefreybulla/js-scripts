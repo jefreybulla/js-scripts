{
 "cells": [
  {
   "cell_type": "code",
   "execution_count": null,
   "id": "d5c63357-84b4-4abe-85cb-a1009df111d3",
   "metadata": {},
   "outputs": [],
   "source": [
    "import pandas as pd\n",
    "import numpy as np\n",
    "\n",
    "# Sample data for cohort analysis\n",
    "data = {'user_id': [1, 2, 3, 4, 5, 6],\n",
    "        'signup_date': ['2023-01-01', '2023-01-01', '2023-02-01', '2023-02-01', '2023-03-01', '2023-03-01'],\n",
    "        'order_date': ['2023-01-10', '2023-01-15', '2023-02-20', '2023-03-10', '2023-03-25', '2023-04-05'],\n",
    "        'order_value': [100, 150, 200, 50, 75, 300]}\n",
    "\n",
    "df = pd.DataFrame(data)\n",
    "\n",
    "# Convert dates to datetime objects\n",
    "df['signup_date'] = pd.to_datetime(df['signup_date'])\n",
    "df['order_date'] = pd.to_datetime(df['order_date'])\n",
    "\n",
    "# Extract year and month for cohort grouping\n",
    "df['signup_month'] = df['signup_date'].dt.to_period('M')\n",
    "df['order_month'] = df['order_date'].dt.to_period('M')\n",
    "\n",
    "# Create a cohort index\n",
    "df['cohort_index'] = (df['order_month'] - df['signup_month']).apply(attrgetter('n'))\n",
    "\n",
    "# Calculate cohort analysis metrics\n",
    "cohort_data = df.groupby(['signup_month', 'cohort_index']).agg(\n",
    "    users=('user_id', 'nunique'),\n",
    "    total_order_value=('order_value', 'sum')\n",
    ").reset_index()\n",
    "\n",
    "cohort_data"
   ]
  }
 ],
 "metadata": {
  "kernelspec": {
   "display_name": "Python 3 (ipykernel)",
   "language": "python",
   "name": "python3"
  },
  "language_info": {
   "codemirror_mode": {
    "name": "ipython",
    "version": 3
   },
   "file_extension": ".py",
   "mimetype": "text/x-python",
   "name": "python",
   "nbconvert_exporter": "python",
   "pygments_lexer": "ipython3",
   "version": "3.12.2"
  }
 },
 "nbformat": 4,
 "nbformat_minor": 5
}
